{
 "cells": [
  {
   "cell_type": "code",
   "execution_count": 1,
   "metadata": {},
   "outputs": [
    {
     "data": {
      "image/png": "[encoded data removed]",
      "text/latex": [
       "$\\displaystyle \\frac{4 x}{- 2 x + 12 y + 3}$"
      ],
      "text/plain": [
       "      4⋅x      \n",
       "───────────────\n",
       "-2⋅x + 12⋅y + 3"
      ]
     },
     "execution_count": 1,
     "metadata": {},
     "output_type": "execute_result"
    }
   ],
   "source": [
    "import sympy as sy\n",
    "sy.init_printing()\n",
    "\n",
    "x, y = sy.symbols('x y')\n",
    "den = -2 * x + 12 * y + 3\n",
    "u = 4 * x / den\n",
    "v = 6 * y / den\n",
    "u"
   ]
  },
  {
   "cell_type": "code",
   "execution_count": 2,
   "metadata": {},
   "outputs": [
    {
     "data": {
      "image/png": "[encoded data removed]",
      "text/latex": [
       "$\\displaystyle \\frac{6 y}{- 2 x + 12 y + 3}$"
      ],
      "text/plain": [
       "      6⋅y      \n",
       "───────────────\n",
       "-2⋅x + 12⋅y + 3"
      ]
     },
     "execution_count": 2,
     "metadata": {},
     "output_type": "execute_result"
    }
   ],
   "source": [
    "v"
   ]
  },
  {
   "cell_type": "code",
   "execution_count": 3,
   "metadata": {},
   "outputs": [
    {
     "data": {
      "image/png": "[encoded data removed]",
      "text/latex": [
       "$\\displaystyle \\left\\{ x : \\frac{3 uu}{2 uu - 8 vv + 4}, \\  y : \\frac{vv}{uu - 4 vv + 2}\\right\\}$"
      ],
      "text/plain": [
       "⎧         3⋅uu                vv     ⎫\n",
       "⎨x: ───────────────, y: ─────────────⎬\n",
       "⎩   2⋅uu - 8⋅vv + 4     uu - 4⋅vv + 2⎭"
      ]
     },
     "execution_count": 3,
     "metadata": {},
     "output_type": "execute_result"
    }
   ],
   "source": [
    "uu, vv = sy.symbols('uu,vv')\n",
    "xy_from_uv = sy.solve([u - uu, v - vv],x,y)\n",
    "xy_from_uv"
   ]
  },
  {
   "cell_type": "code",
   "execution_count": 11,
   "metadata": {},
   "outputs": [
    {
     "data": {
      "image/png": "[encoded data removed]",
      "text/latex": [
       "$\\displaystyle \\frac{3 uu}{2 uu - 8 vv + 4}$"
      ],
      "text/plain": [
       "      3⋅uu     \n",
       "───────────────\n",
       "2⋅uu - 8⋅vv + 4"
      ]
     },
     "execution_count": 11,
     "metadata": {},
     "output_type": "execute_result"
    }
   ],
   "source": [
    "xy_from_uv[x]"
   ]
  },
  {
   "cell_type": "code",
   "execution_count": 14,
   "metadata": {},
   "outputs": [
    {
     "data": {
      "image/png": "[encoded data removed]",
      "text/latex": [
       "$\\displaystyle \\frac{uu + 2}{\\left(uu - 4 vv + 2\\right)^{2}}$"
      ],
      "text/plain": [
       "     uu + 2     \n",
       "────────────────\n",
       "               2\n",
       "(uu - 4⋅vv + 2) "
      ]
     },
     "execution_count": 14,
     "metadata": {},
     "output_type": "execute_result"
    }
   ],
   "source": [
    "xx = xy_from_uv[x]\n",
    "yy = xy_from_uv[y]\n",
    "sy.simplify(sy.diff(xx,uu))\n"
   ]
  },
  {
   "cell_type": "code",
   "execution_count": 15,
   "metadata": {},
   "outputs": [
    {
     "data": {
      "image/png": "[encoded data removed]",
      "text/latex": [
       "$\\displaystyle \\frac{6 uu}{\\left(uu - 4 vv + 2\\right)^{2}}$"
      ],
      "text/plain": [
       "      6⋅uu      \n",
       "────────────────\n",
       "               2\n",
       "(uu - 4⋅vv + 2) "
      ]
     },
     "execution_count": 15,
     "metadata": {},
     "output_type": "execute_result"
    }
   ],
   "source": [
    "sy.simplify(sy.diff(xx,vv))\n"
   ]
  },
  {
   "cell_type": "code",
   "execution_count": 16,
   "metadata": {},
   "outputs": [
    {
     "data": {
      "image/png": "[encoded data removed]",
      "text/latex": [
       "$\\displaystyle - \\frac{vv}{\\left(uu - 4 vv + 2\\right)^{2}}$"
      ],
      "text/plain": [
       "      -vv       \n",
       "────────────────\n",
       "               2\n",
       "(uu - 4⋅vv + 2) "
      ]
     },
     "execution_count": 16,
     "metadata": {},
     "output_type": "execute_result"
    }
   ],
   "source": [
    "sy.simplify(sy.diff(yy,uu))\n"
   ]
  },
  {
   "cell_type": "code",
   "execution_count": 17,
   "metadata": {},
   "outputs": [
    {
     "data": {
      "image/png": "[encoded data removed]",
      "text/latex": [
       "$\\displaystyle \\frac{uu + 2}{\\left(uu - 4 vv + 2\\right)^{2}}$"
      ],
      "text/plain": [
       "     uu + 2     \n",
       "────────────────\n",
       "               2\n",
       "(uu - 4⋅vv + 2) "
      ]
     },
     "execution_count": 17,
     "metadata": {},
     "output_type": "execute_result"
    }
   ],
   "source": [
    "sy.simplify(sy.diff(yy,vv))\n"
   ]
  }
 ],
 "metadata": {
  "kernelspec": {
   "display_name": "Python 3",
   "language": "python",
   "name": "python3"
  },
  "language_info": {
   "codemirror_mode": {
    "name": "ipython",
    "version": 3
   },
   "file_extension": ".py",
   "mimetype": "text/x-python",
   "name": "python",
   "nbconvert_exporter": "python",
   "pygments_lexer": "ipython3",
   "version": "3.12.0"
  }
 },
 "nbformat": 4,
 "nbformat_minor": 2
}
